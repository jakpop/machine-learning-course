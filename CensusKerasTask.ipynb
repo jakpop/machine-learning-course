{
  "nbformat": 4,
  "nbformat_minor": 0,
  "metadata": {
    "kernelspec": {
      "display_name": "Python 3",
      "language": "python",
      "name": "python3"
    },
    "language_info": {
      "codemirror_mode": {
        "name": "ipython",
        "version": 3
      },
      "file_extension": ".py",
      "mimetype": "text/x-python",
      "name": "python",
      "nbconvert_exporter": "python",
      "pygments_lexer": "ipython3",
      "version": "3.7.6"
    },
    "colab": {
      "name": "Kopia notatnika census_keras_empty.ipynb",
      "provenance": []
    },
    "accelerator": "TPU"
  },
  "cells": [
    {
      "cell_type": "markdown",
      "metadata": {
        "id": "-OjhmlwasgnO"
      },
      "source": [
        "# Census Income Example\n",
        "This is a Keras example of classification problem. To simplify the data preparation part I used the Census problem from the Sci-Kit Learn class.\n",
        "\n",
        "The dataset comes from http://archive.ics.uci.edu/. \n",
        "\n",
        "Data extraction was done by Barry Becker from the 1994 Census database. A set of reasonably clean records was extracted using the following conditions: ((AAGE>16) && (AGI>100) && (AFNLWGT>1)&& (HRSWK>0)). The data was also preprocessed for the purpose of this example.\n",
        "\n",
        "Prediction task is to determine whether a person makes over 50K a year.\n",
        "\n",
        "\n",
        "### List of attributes:\n",
        "\n",
        "##### Features\n",
        "- age: continuous. \n",
        "- workclass: Private, Self-emp-not-inc, Self-emp-inc, Federal-gov, Local-gov, State-gov, Without-pay, Never-worked. \n",
        "- education: Bachelors, Some-college, 11th, HS-grad, Prof-school, Assoc-acdm, Assoc-voc, 9th, 7th-8th, 12th, Masters, 1st-4th, - 10th, Doctorate, 5th-6th, Preschool. \n",
        "- education-num: continuous. \n",
        "- marital-status: Married-civ-spouse, Divorced, Never-married, Separated, Widowed, Married-spouse-absent, Married-AF-spouse. \n",
        "- occupation: Tech-support, Craft-repair, Other-service, Sales, Exec-managerial, Prof-specialty, Handlers-cleaners, Machine-op-inspct, Adm-clerical, Farming-fishing, Transport-moving, Priv-house-serv, Protective-serv, Armed-Forces. \n",
        "- relationship: Wife, Own-child, Husband, Not-in-family, Other-relative, Unmarried. \n",
        "- race: White, Asian-Pac-Islander, Amer-Indian-Eskimo, Other, Black. \n",
        "- sex: Female, Male. \n",
        "- hours-per-week: continuous. \n",
        "- native-country: United-States, Cambodia, England, Puerto-Rico, Canada, Germany, Outlying-US(Guam-USVI-etc), India, Japan, Greece, South, China, Cuba, Iran, Honduras, Philippines, Italy, Poland, Jamaica, Vietnam, Mexico, Portugal, Ireland, France, Dominican-Republic, Laos, Ecuador, Taiwan, Haiti, Columbia, Hungary, Guatemala, Nicaragua, Scotland, Thailand, Yugoslavia, El-Salvador, Trinadad&Tobago, Peru, Hong, Holand-Netherlands.\n",
        "\n",
        "\n",
        "\n",
        "##### Labels\n",
        "- income - >50K, <=50K. "
      ]
    },
    {
      "cell_type": "markdown",
      "metadata": {
        "id": "21WVDoU1sgnO"
      },
      "source": [
        "# Install tensorflow\n",
        "If necessary uncomment one of the lines below"
      ]
    },
    {
      "cell_type": "code",
      "metadata": {
        "id": "8ZKwSpIDsgnO"
      },
      "source": [
        "# For tensorflow with CPU support only\n",
        "#!pip install tensorflow\n",
        "# For GPU version of tensorflow\n",
        "#!pip install tensorflow-gpu"
      ],
      "execution_count": 194,
      "outputs": []
    },
    {
      "cell_type": "markdown",
      "metadata": {
        "id": "Vd1lcgiYsgnO"
      },
      "source": [
        "# Imports"
      ]
    },
    {
      "cell_type": "code",
      "metadata": {
        "id": "V1iHj-j1sgnO"
      },
      "source": [
        "import pandas as pd\n",
        "import numpy as np\n",
        "import tensorflow as tf\n",
        "\n",
        "import matplotlib.pyplot as plt\n",
        "%matplotlib inline"
      ],
      "execution_count": 195,
      "outputs": []
    },
    {
      "cell_type": "markdown",
      "metadata": {
        "id": "vpB6IxYnsgnO"
      },
      "source": [
        "### Load dataset"
      ]
    },
    {
      "cell_type": "code",
      "metadata": {
        "id": "Cc-uHZD2sgnO"
      },
      "source": [
        "df = pd.read_csv(\"https://github.com/PrzemekSekula/DeepLearningClasses1/raw/master/data/census.csv\")\n",
        "\n"
      ],
      "execution_count": 196,
      "outputs": []
    },
    {
      "cell_type": "markdown",
      "metadata": {
        "id": "bmmCZiaRsgnO"
      },
      "source": [
        "# Data preparation\n",
        "### Selecting columns\n",
        "Personaly I decided to delete the following columns:\n",
        "- education - we have education-num, this is enough\n",
        "- marital status - too many classes\n",
        "- relationship - I am not sure if it is useful, and there are many classes\n",
        "- race - I am not sure if it is useful\n",
        "- native-country - too many classes\n",
        "\n",
        "**I deleted many columns just to make the task easier to read. Students are encouraged to experiment with the columns and check if they can improve the results.**\n"
      ]
    },
    {
      "cell_type": "code",
      "metadata": {
        "id": "qM7gwcKvsgnO",
        "colab": {
          "base_uri": "https://localhost:8080/",
          "height": 204
        },
        "outputId": "3e845b4d-0029-4c5b-89ed-ea8eb3f9bd51"
      },
      "source": [
        "df = df[['age', 'workclass', 'education-num', 'occupation', \n",
        "         'sex', 'hours-per-week', 'income']]\n",
        "\n",
        "df.head()"
      ],
      "execution_count": 197,
      "outputs": [
        {
          "output_type": "execute_result",
          "data": {
            "text/html": [
              "<div>\n",
              "<style scoped>\n",
              "    .dataframe tbody tr th:only-of-type {\n",
              "        vertical-align: middle;\n",
              "    }\n",
              "\n",
              "    .dataframe tbody tr th {\n",
              "        vertical-align: top;\n",
              "    }\n",
              "\n",
              "    .dataframe thead th {\n",
              "        text-align: right;\n",
              "    }\n",
              "</style>\n",
              "<table border=\"1\" class=\"dataframe\">\n",
              "  <thead>\n",
              "    <tr style=\"text-align: right;\">\n",
              "      <th></th>\n",
              "      <th>age</th>\n",
              "      <th>workclass</th>\n",
              "      <th>education-num</th>\n",
              "      <th>occupation</th>\n",
              "      <th>sex</th>\n",
              "      <th>hours-per-week</th>\n",
              "      <th>income</th>\n",
              "    </tr>\n",
              "  </thead>\n",
              "  <tbody>\n",
              "    <tr>\n",
              "      <th>0</th>\n",
              "      <td>39</td>\n",
              "      <td>State-gov</td>\n",
              "      <td>13</td>\n",
              "      <td>Adm-clerical</td>\n",
              "      <td>Male</td>\n",
              "      <td>40</td>\n",
              "      <td>&lt;=50K</td>\n",
              "    </tr>\n",
              "    <tr>\n",
              "      <th>1</th>\n",
              "      <td>50</td>\n",
              "      <td>Self-emp-not-inc</td>\n",
              "      <td>13</td>\n",
              "      <td>Exec-managerial</td>\n",
              "      <td>Male</td>\n",
              "      <td>13</td>\n",
              "      <td>&lt;=50K</td>\n",
              "    </tr>\n",
              "    <tr>\n",
              "      <th>2</th>\n",
              "      <td>38</td>\n",
              "      <td>Private</td>\n",
              "      <td>9</td>\n",
              "      <td>Handlers-cleaners</td>\n",
              "      <td>Male</td>\n",
              "      <td>40</td>\n",
              "      <td>&lt;=50K</td>\n",
              "    </tr>\n",
              "    <tr>\n",
              "      <th>3</th>\n",
              "      <td>53</td>\n",
              "      <td>Private</td>\n",
              "      <td>7</td>\n",
              "      <td>Handlers-cleaners</td>\n",
              "      <td>Male</td>\n",
              "      <td>40</td>\n",
              "      <td>&lt;=50K</td>\n",
              "    </tr>\n",
              "    <tr>\n",
              "      <th>4</th>\n",
              "      <td>28</td>\n",
              "      <td>Private</td>\n",
              "      <td>13</td>\n",
              "      <td>Prof-specialty</td>\n",
              "      <td>Female</td>\n",
              "      <td>40</td>\n",
              "      <td>&lt;=50K</td>\n",
              "    </tr>\n",
              "  </tbody>\n",
              "</table>\n",
              "</div>"
            ],
            "text/plain": [
              "   age         workclass  education-num  ...     sex hours-per-week  income\n",
              "0   39         State-gov             13  ...    Male             40   <=50K\n",
              "1   50  Self-emp-not-inc             13  ...    Male             13   <=50K\n",
              "2   38           Private              9  ...    Male             40   <=50K\n",
              "3   53           Private              7  ...    Male             40   <=50K\n",
              "4   28           Private             13  ...  Female             40   <=50K\n",
              "\n",
              "[5 rows x 7 columns]"
            ]
          },
          "metadata": {
            "tags": []
          },
          "execution_count": 197
        }
      ]
    },
    {
      "cell_type": "markdown",
      "metadata": {
        "id": "HZCBgdM4sgnP"
      },
      "source": [
        "### Data preprocessing"
      ]
    },
    {
      "cell_type": "markdown",
      "metadata": {
        "id": "wdOWQtTUsgnP"
      },
      "source": [
        "#### First step - change the labels into binary values."
      ]
    },
    {
      "cell_type": "code",
      "metadata": {
        "id": "3PHqZ6ACsgnP",
        "colab": {
          "base_uri": "https://localhost:8080/",
          "height": 410
        },
        "outputId": "e872b4d9-0908-4261-aa98-da2a6df08184"
      },
      "source": [
        "# df.income = (df.income == '>50K').astype(int)\n",
        "df = pd.get_dummies(df, columns=['income'], drop_first=True)\n",
        "df = df.rename(columns={'income_>50K': 'income'})\n",
        "print(df.income.value_counts())\n",
        "df.head(10)"
      ],
      "execution_count": 198,
      "outputs": [
        {
          "output_type": "stream",
          "text": [
            "0    24720\n",
            "1     7841\n",
            "Name: income, dtype: int64\n"
          ],
          "name": "stdout"
        },
        {
          "output_type": "execute_result",
          "data": {
            "text/html": [
              "<div>\n",
              "<style scoped>\n",
              "    .dataframe tbody tr th:only-of-type {\n",
              "        vertical-align: middle;\n",
              "    }\n",
              "\n",
              "    .dataframe tbody tr th {\n",
              "        vertical-align: top;\n",
              "    }\n",
              "\n",
              "    .dataframe thead th {\n",
              "        text-align: right;\n",
              "    }\n",
              "</style>\n",
              "<table border=\"1\" class=\"dataframe\">\n",
              "  <thead>\n",
              "    <tr style=\"text-align: right;\">\n",
              "      <th></th>\n",
              "      <th>age</th>\n",
              "      <th>workclass</th>\n",
              "      <th>education-num</th>\n",
              "      <th>occupation</th>\n",
              "      <th>sex</th>\n",
              "      <th>hours-per-week</th>\n",
              "      <th>income</th>\n",
              "    </tr>\n",
              "  </thead>\n",
              "  <tbody>\n",
              "    <tr>\n",
              "      <th>0</th>\n",
              "      <td>39</td>\n",
              "      <td>State-gov</td>\n",
              "      <td>13</td>\n",
              "      <td>Adm-clerical</td>\n",
              "      <td>Male</td>\n",
              "      <td>40</td>\n",
              "      <td>0</td>\n",
              "    </tr>\n",
              "    <tr>\n",
              "      <th>1</th>\n",
              "      <td>50</td>\n",
              "      <td>Self-emp-not-inc</td>\n",
              "      <td>13</td>\n",
              "      <td>Exec-managerial</td>\n",
              "      <td>Male</td>\n",
              "      <td>13</td>\n",
              "      <td>0</td>\n",
              "    </tr>\n",
              "    <tr>\n",
              "      <th>2</th>\n",
              "      <td>38</td>\n",
              "      <td>Private</td>\n",
              "      <td>9</td>\n",
              "      <td>Handlers-cleaners</td>\n",
              "      <td>Male</td>\n",
              "      <td>40</td>\n",
              "      <td>0</td>\n",
              "    </tr>\n",
              "    <tr>\n",
              "      <th>3</th>\n",
              "      <td>53</td>\n",
              "      <td>Private</td>\n",
              "      <td>7</td>\n",
              "      <td>Handlers-cleaners</td>\n",
              "      <td>Male</td>\n",
              "      <td>40</td>\n",
              "      <td>0</td>\n",
              "    </tr>\n",
              "    <tr>\n",
              "      <th>4</th>\n",
              "      <td>28</td>\n",
              "      <td>Private</td>\n",
              "      <td>13</td>\n",
              "      <td>Prof-specialty</td>\n",
              "      <td>Female</td>\n",
              "      <td>40</td>\n",
              "      <td>0</td>\n",
              "    </tr>\n",
              "    <tr>\n",
              "      <th>5</th>\n",
              "      <td>37</td>\n",
              "      <td>Private</td>\n",
              "      <td>14</td>\n",
              "      <td>Exec-managerial</td>\n",
              "      <td>Female</td>\n",
              "      <td>40</td>\n",
              "      <td>0</td>\n",
              "    </tr>\n",
              "    <tr>\n",
              "      <th>6</th>\n",
              "      <td>49</td>\n",
              "      <td>Private</td>\n",
              "      <td>5</td>\n",
              "      <td>Other-service</td>\n",
              "      <td>Female</td>\n",
              "      <td>16</td>\n",
              "      <td>0</td>\n",
              "    </tr>\n",
              "    <tr>\n",
              "      <th>7</th>\n",
              "      <td>52</td>\n",
              "      <td>Self-emp-not-inc</td>\n",
              "      <td>9</td>\n",
              "      <td>Exec-managerial</td>\n",
              "      <td>Male</td>\n",
              "      <td>45</td>\n",
              "      <td>1</td>\n",
              "    </tr>\n",
              "    <tr>\n",
              "      <th>8</th>\n",
              "      <td>31</td>\n",
              "      <td>Private</td>\n",
              "      <td>14</td>\n",
              "      <td>Prof-specialty</td>\n",
              "      <td>Female</td>\n",
              "      <td>50</td>\n",
              "      <td>1</td>\n",
              "    </tr>\n",
              "    <tr>\n",
              "      <th>9</th>\n",
              "      <td>42</td>\n",
              "      <td>Private</td>\n",
              "      <td>13</td>\n",
              "      <td>Exec-managerial</td>\n",
              "      <td>Male</td>\n",
              "      <td>40</td>\n",
              "      <td>1</td>\n",
              "    </tr>\n",
              "  </tbody>\n",
              "</table>\n",
              "</div>"
            ],
            "text/plain": [
              "   age         workclass  education-num  ...     sex hours-per-week  income\n",
              "0   39         State-gov             13  ...    Male             40       0\n",
              "1   50  Self-emp-not-inc             13  ...    Male             13       0\n",
              "2   38           Private              9  ...    Male             40       0\n",
              "3   53           Private              7  ...    Male             40       0\n",
              "4   28           Private             13  ...  Female             40       0\n",
              "5   37           Private             14  ...  Female             40       0\n",
              "6   49           Private              5  ...  Female             16       0\n",
              "7   52  Self-emp-not-inc              9  ...    Male             45       1\n",
              "8   31           Private             14  ...  Female             50       1\n",
              "9   42           Private             13  ...    Male             40       1\n",
              "\n",
              "[10 rows x 7 columns]"
            ]
          },
          "metadata": {
            "tags": []
          },
          "execution_count": 198
        }
      ]
    },
    {
      "cell_type": "markdown",
      "metadata": {
        "id": "HGadfbZssgnP"
      },
      "source": [
        "#### Second step - change the `sex` column into binary values"
      ]
    },
    {
      "cell_type": "code",
      "metadata": {
        "id": "y1er5z-asgnP",
        "colab": {
          "base_uri": "https://localhost:8080/",
          "height": 359
        },
        "outputId": "56fe3ddf-1194-443d-ff52-d3bcece97310"
      },
      "source": [
        "df = pd.get_dummies(df, columns=['sex'], drop_first=True)\n",
        "df.head(10)"
      ],
      "execution_count": 199,
      "outputs": [
        {
          "output_type": "execute_result",
          "data": {
            "text/html": [
              "<div>\n",
              "<style scoped>\n",
              "    .dataframe tbody tr th:only-of-type {\n",
              "        vertical-align: middle;\n",
              "    }\n",
              "\n",
              "    .dataframe tbody tr th {\n",
              "        vertical-align: top;\n",
              "    }\n",
              "\n",
              "    .dataframe thead th {\n",
              "        text-align: right;\n",
              "    }\n",
              "</style>\n",
              "<table border=\"1\" class=\"dataframe\">\n",
              "  <thead>\n",
              "    <tr style=\"text-align: right;\">\n",
              "      <th></th>\n",
              "      <th>age</th>\n",
              "      <th>workclass</th>\n",
              "      <th>education-num</th>\n",
              "      <th>occupation</th>\n",
              "      <th>hours-per-week</th>\n",
              "      <th>income</th>\n",
              "      <th>sex_Male</th>\n",
              "    </tr>\n",
              "  </thead>\n",
              "  <tbody>\n",
              "    <tr>\n",
              "      <th>0</th>\n",
              "      <td>39</td>\n",
              "      <td>State-gov</td>\n",
              "      <td>13</td>\n",
              "      <td>Adm-clerical</td>\n",
              "      <td>40</td>\n",
              "      <td>0</td>\n",
              "      <td>1</td>\n",
              "    </tr>\n",
              "    <tr>\n",
              "      <th>1</th>\n",
              "      <td>50</td>\n",
              "      <td>Self-emp-not-inc</td>\n",
              "      <td>13</td>\n",
              "      <td>Exec-managerial</td>\n",
              "      <td>13</td>\n",
              "      <td>0</td>\n",
              "      <td>1</td>\n",
              "    </tr>\n",
              "    <tr>\n",
              "      <th>2</th>\n",
              "      <td>38</td>\n",
              "      <td>Private</td>\n",
              "      <td>9</td>\n",
              "      <td>Handlers-cleaners</td>\n",
              "      <td>40</td>\n",
              "      <td>0</td>\n",
              "      <td>1</td>\n",
              "    </tr>\n",
              "    <tr>\n",
              "      <th>3</th>\n",
              "      <td>53</td>\n",
              "      <td>Private</td>\n",
              "      <td>7</td>\n",
              "      <td>Handlers-cleaners</td>\n",
              "      <td>40</td>\n",
              "      <td>0</td>\n",
              "      <td>1</td>\n",
              "    </tr>\n",
              "    <tr>\n",
              "      <th>4</th>\n",
              "      <td>28</td>\n",
              "      <td>Private</td>\n",
              "      <td>13</td>\n",
              "      <td>Prof-specialty</td>\n",
              "      <td>40</td>\n",
              "      <td>0</td>\n",
              "      <td>0</td>\n",
              "    </tr>\n",
              "    <tr>\n",
              "      <th>5</th>\n",
              "      <td>37</td>\n",
              "      <td>Private</td>\n",
              "      <td>14</td>\n",
              "      <td>Exec-managerial</td>\n",
              "      <td>40</td>\n",
              "      <td>0</td>\n",
              "      <td>0</td>\n",
              "    </tr>\n",
              "    <tr>\n",
              "      <th>6</th>\n",
              "      <td>49</td>\n",
              "      <td>Private</td>\n",
              "      <td>5</td>\n",
              "      <td>Other-service</td>\n",
              "      <td>16</td>\n",
              "      <td>0</td>\n",
              "      <td>0</td>\n",
              "    </tr>\n",
              "    <tr>\n",
              "      <th>7</th>\n",
              "      <td>52</td>\n",
              "      <td>Self-emp-not-inc</td>\n",
              "      <td>9</td>\n",
              "      <td>Exec-managerial</td>\n",
              "      <td>45</td>\n",
              "      <td>1</td>\n",
              "      <td>1</td>\n",
              "    </tr>\n",
              "    <tr>\n",
              "      <th>8</th>\n",
              "      <td>31</td>\n",
              "      <td>Private</td>\n",
              "      <td>14</td>\n",
              "      <td>Prof-specialty</td>\n",
              "      <td>50</td>\n",
              "      <td>1</td>\n",
              "      <td>0</td>\n",
              "    </tr>\n",
              "    <tr>\n",
              "      <th>9</th>\n",
              "      <td>42</td>\n",
              "      <td>Private</td>\n",
              "      <td>13</td>\n",
              "      <td>Exec-managerial</td>\n",
              "      <td>40</td>\n",
              "      <td>1</td>\n",
              "      <td>1</td>\n",
              "    </tr>\n",
              "  </tbody>\n",
              "</table>\n",
              "</div>"
            ],
            "text/plain": [
              "   age         workclass  education-num  ... hours-per-week  income  sex_Male\n",
              "0   39         State-gov             13  ...             40       0         1\n",
              "1   50  Self-emp-not-inc             13  ...             13       0         1\n",
              "2   38           Private              9  ...             40       0         1\n",
              "3   53           Private              7  ...             40       0         1\n",
              "4   28           Private             13  ...             40       0         0\n",
              "5   37           Private             14  ...             40       0         0\n",
              "6   49           Private              5  ...             16       0         0\n",
              "7   52  Self-emp-not-inc              9  ...             45       1         1\n",
              "8   31           Private             14  ...             50       1         0\n",
              "9   42           Private             13  ...             40       1         1\n",
              "\n",
              "[10 rows x 7 columns]"
            ]
          },
          "metadata": {
            "tags": []
          },
          "execution_count": 199
        }
      ]
    },
    {
      "cell_type": "markdown",
      "metadata": {
        "id": "6pJlLV5ssgnP"
      },
      "source": [
        "#### Third step - replace rare classes"
      ]
    },
    {
      "cell_type": "markdown",
      "metadata": {
        "id": "PW_Z_W9msgnP"
      },
      "source": [
        "Let's check if we have any rare classes"
      ]
    },
    {
      "cell_type": "code",
      "metadata": {
        "id": "fZ1MAQ7IsgnP",
        "colab": {
          "base_uri": "https://localhost:8080/"
        },
        "outputId": "909193eb-3584-41da-9059-767953af65b8"
      },
      "source": [
        "df.workclass.value_counts()"
      ],
      "execution_count": 200,
      "outputs": [
        {
          "output_type": "execute_result",
          "data": {
            "text/plain": [
              "Private             22696\n",
              "Self-emp-not-inc     2541\n",
              "Local-gov            2093\n",
              "?                    1836\n",
              "State-gov            1298\n",
              "Self-emp-inc         1116\n",
              "Federal-gov           960\n",
              "Without-pay            14\n",
              "Never-worked            7\n",
              "Name: workclass, dtype: int64"
            ]
          },
          "metadata": {
            "tags": []
          },
          "execution_count": 200
        }
      ]
    },
    {
      "cell_type": "code",
      "metadata": {
        "id": "fMFHT4vNsgnP",
        "colab": {
          "base_uri": "https://localhost:8080/"
        },
        "outputId": "7fae5fb4-bdd2-4057-9c94-c2848ced2bab"
      },
      "source": [
        "df.occupation.value_counts()"
      ],
      "execution_count": 201,
      "outputs": [
        {
          "output_type": "execute_result",
          "data": {
            "text/plain": [
              "Prof-specialty       4140\n",
              "Craft-repair         4099\n",
              "Exec-managerial      4066\n",
              "Adm-clerical         3770\n",
              "Sales                3650\n",
              "Other-service        3295\n",
              "Machine-op-inspct    2002\n",
              "?                    1843\n",
              "Transport-moving     1597\n",
              "Handlers-cleaners    1370\n",
              "Farming-fishing       994\n",
              "Tech-support          928\n",
              "Protective-serv       649\n",
              "Priv-house-serv       149\n",
              "Armed-Forces            9\n",
              "Name: occupation, dtype: int64"
            ]
          },
          "metadata": {
            "tags": []
          },
          "execution_count": 201
        }
      ]
    },
    {
      "cell_type": "markdown",
      "metadata": {
        "id": "8slob0glsgnP"
      },
      "source": [
        "Then we should replace rare classes for one-hot encoded columns"
      ]
    },
    {
      "cell_type": "code",
      "metadata": {
        "id": "LcKr7o14sgnP",
        "colab": {
          "base_uri": "https://localhost:8080/"
        },
        "outputId": "907c9b92-d806-4e11-e835-d50930aba634"
      },
      "source": [
        "df = df.replace(['Without-pay', 'Never-worked'], '?')\n",
        "df.workclass.value_counts()"
      ],
      "execution_count": 202,
      "outputs": [
        {
          "output_type": "execute_result",
          "data": {
            "text/plain": [
              "Private             22696\n",
              "Self-emp-not-inc     2541\n",
              "Local-gov            2093\n",
              "?                    1857\n",
              "State-gov            1298\n",
              "Self-emp-inc         1116\n",
              "Federal-gov           960\n",
              "Name: workclass, dtype: int64"
            ]
          },
          "metadata": {
            "tags": []
          },
          "execution_count": 202
        }
      ]
    },
    {
      "cell_type": "code",
      "metadata": {
        "id": "D1i6RsOxsgnP",
        "colab": {
          "base_uri": "https://localhost:8080/"
        },
        "outputId": "0d55b0b1-3688-4d73-b0cc-7a79bf545fd0"
      },
      "source": [
        "df = df.replace(['Protective-serv', 'Priv-house-serv', 'Armed-Forces'], '?')\n",
        "df.occupation.value_counts()"
      ],
      "execution_count": 203,
      "outputs": [
        {
          "output_type": "execute_result",
          "data": {
            "text/plain": [
              "Prof-specialty       4140\n",
              "Craft-repair         4099\n",
              "Exec-managerial      4066\n",
              "Adm-clerical         3770\n",
              "Sales                3650\n",
              "Other-service        3295\n",
              "?                    2650\n",
              "Machine-op-inspct    2002\n",
              "Transport-moving     1597\n",
              "Handlers-cleaners    1370\n",
              "Farming-fishing       994\n",
              "Tech-support          928\n",
              "Name: occupation, dtype: int64"
            ]
          },
          "metadata": {
            "tags": []
          },
          "execution_count": 203
        }
      ]
    },
    {
      "cell_type": "markdown",
      "metadata": {
        "id": "--8kKaDCsgnP"
      },
      "source": [
        "#### Final step - one hot encoding"
      ]
    },
    {
      "cell_type": "code",
      "metadata": {
        "id": "TcZdD7b-sgnP",
        "colab": {
          "base_uri": "https://localhost:8080/",
          "height": 462
        },
        "outputId": "5563bd9d-932d-4383-d175-c8f0f64dcc52"
      },
      "source": [
        "df = pd.get_dummies(df, columns=['workclass', 'occupation'])\n",
        "print(df.shape)\n",
        "print(df.columns)\n",
        "df.head()"
      ],
      "execution_count": 204,
      "outputs": [
        {
          "output_type": "stream",
          "text": [
            "(32561, 24)\n",
            "Index(['age', 'education-num', 'hours-per-week', 'income', 'sex_Male',\n",
            "       'workclass_?', 'workclass_Federal-gov', 'workclass_Local-gov',\n",
            "       'workclass_Private', 'workclass_Self-emp-inc',\n",
            "       'workclass_Self-emp-not-inc', 'workclass_State-gov', 'occupation_?',\n",
            "       'occupation_Adm-clerical', 'occupation_Craft-repair',\n",
            "       'occupation_Exec-managerial', 'occupation_Farming-fishing',\n",
            "       'occupation_Handlers-cleaners', 'occupation_Machine-op-inspct',\n",
            "       'occupation_Other-service', 'occupation_Prof-specialty',\n",
            "       'occupation_Sales', 'occupation_Tech-support',\n",
            "       'occupation_Transport-moving'],\n",
            "      dtype='object')\n"
          ],
          "name": "stdout"
        },
        {
          "output_type": "execute_result",
          "data": {
            "text/html": [
              "<div>\n",
              "<style scoped>\n",
              "    .dataframe tbody tr th:only-of-type {\n",
              "        vertical-align: middle;\n",
              "    }\n",
              "\n",
              "    .dataframe tbody tr th {\n",
              "        vertical-align: top;\n",
              "    }\n",
              "\n",
              "    .dataframe thead th {\n",
              "        text-align: right;\n",
              "    }\n",
              "</style>\n",
              "<table border=\"1\" class=\"dataframe\">\n",
              "  <thead>\n",
              "    <tr style=\"text-align: right;\">\n",
              "      <th></th>\n",
              "      <th>age</th>\n",
              "      <th>education-num</th>\n",
              "      <th>hours-per-week</th>\n",
              "      <th>income</th>\n",
              "      <th>sex_Male</th>\n",
              "      <th>workclass_?</th>\n",
              "      <th>workclass_Federal-gov</th>\n",
              "      <th>workclass_Local-gov</th>\n",
              "      <th>workclass_Private</th>\n",
              "      <th>workclass_Self-emp-inc</th>\n",
              "      <th>workclass_Self-emp-not-inc</th>\n",
              "      <th>workclass_State-gov</th>\n",
              "      <th>occupation_?</th>\n",
              "      <th>occupation_Adm-clerical</th>\n",
              "      <th>occupation_Craft-repair</th>\n",
              "      <th>occupation_Exec-managerial</th>\n",
              "      <th>occupation_Farming-fishing</th>\n",
              "      <th>occupation_Handlers-cleaners</th>\n",
              "      <th>occupation_Machine-op-inspct</th>\n",
              "      <th>occupation_Other-service</th>\n",
              "      <th>occupation_Prof-specialty</th>\n",
              "      <th>occupation_Sales</th>\n",
              "      <th>occupation_Tech-support</th>\n",
              "      <th>occupation_Transport-moving</th>\n",
              "    </tr>\n",
              "  </thead>\n",
              "  <tbody>\n",
              "    <tr>\n",
              "      <th>0</th>\n",
              "      <td>39</td>\n",
              "      <td>13</td>\n",
              "      <td>40</td>\n",
              "      <td>0</td>\n",
              "      <td>1</td>\n",
              "      <td>0</td>\n",
              "      <td>0</td>\n",
              "      <td>0</td>\n",
              "      <td>0</td>\n",
              "      <td>0</td>\n",
              "      <td>0</td>\n",
              "      <td>1</td>\n",
              "      <td>0</td>\n",
              "      <td>1</td>\n",
              "      <td>0</td>\n",
              "      <td>0</td>\n",
              "      <td>0</td>\n",
              "      <td>0</td>\n",
              "      <td>0</td>\n",
              "      <td>0</td>\n",
              "      <td>0</td>\n",
              "      <td>0</td>\n",
              "      <td>0</td>\n",
              "      <td>0</td>\n",
              "    </tr>\n",
              "    <tr>\n",
              "      <th>1</th>\n",
              "      <td>50</td>\n",
              "      <td>13</td>\n",
              "      <td>13</td>\n",
              "      <td>0</td>\n",
              "      <td>1</td>\n",
              "      <td>0</td>\n",
              "      <td>0</td>\n",
              "      <td>0</td>\n",
              "      <td>0</td>\n",
              "      <td>0</td>\n",
              "      <td>1</td>\n",
              "      <td>0</td>\n",
              "      <td>0</td>\n",
              "      <td>0</td>\n",
              "      <td>0</td>\n",
              "      <td>1</td>\n",
              "      <td>0</td>\n",
              "      <td>0</td>\n",
              "      <td>0</td>\n",
              "      <td>0</td>\n",
              "      <td>0</td>\n",
              "      <td>0</td>\n",
              "      <td>0</td>\n",
              "      <td>0</td>\n",
              "    </tr>\n",
              "    <tr>\n",
              "      <th>2</th>\n",
              "      <td>38</td>\n",
              "      <td>9</td>\n",
              "      <td>40</td>\n",
              "      <td>0</td>\n",
              "      <td>1</td>\n",
              "      <td>0</td>\n",
              "      <td>0</td>\n",
              "      <td>0</td>\n",
              "      <td>1</td>\n",
              "      <td>0</td>\n",
              "      <td>0</td>\n",
              "      <td>0</td>\n",
              "      <td>0</td>\n",
              "      <td>0</td>\n",
              "      <td>0</td>\n",
              "      <td>0</td>\n",
              "      <td>0</td>\n",
              "      <td>1</td>\n",
              "      <td>0</td>\n",
              "      <td>0</td>\n",
              "      <td>0</td>\n",
              "      <td>0</td>\n",
              "      <td>0</td>\n",
              "      <td>0</td>\n",
              "    </tr>\n",
              "    <tr>\n",
              "      <th>3</th>\n",
              "      <td>53</td>\n",
              "      <td>7</td>\n",
              "      <td>40</td>\n",
              "      <td>0</td>\n",
              "      <td>1</td>\n",
              "      <td>0</td>\n",
              "      <td>0</td>\n",
              "      <td>0</td>\n",
              "      <td>1</td>\n",
              "      <td>0</td>\n",
              "      <td>0</td>\n",
              "      <td>0</td>\n",
              "      <td>0</td>\n",
              "      <td>0</td>\n",
              "      <td>0</td>\n",
              "      <td>0</td>\n",
              "      <td>0</td>\n",
              "      <td>1</td>\n",
              "      <td>0</td>\n",
              "      <td>0</td>\n",
              "      <td>0</td>\n",
              "      <td>0</td>\n",
              "      <td>0</td>\n",
              "      <td>0</td>\n",
              "    </tr>\n",
              "    <tr>\n",
              "      <th>4</th>\n",
              "      <td>28</td>\n",
              "      <td>13</td>\n",
              "      <td>40</td>\n",
              "      <td>0</td>\n",
              "      <td>0</td>\n",
              "      <td>0</td>\n",
              "      <td>0</td>\n",
              "      <td>0</td>\n",
              "      <td>1</td>\n",
              "      <td>0</td>\n",
              "      <td>0</td>\n",
              "      <td>0</td>\n",
              "      <td>0</td>\n",
              "      <td>0</td>\n",
              "      <td>0</td>\n",
              "      <td>0</td>\n",
              "      <td>0</td>\n",
              "      <td>0</td>\n",
              "      <td>0</td>\n",
              "      <td>0</td>\n",
              "      <td>1</td>\n",
              "      <td>0</td>\n",
              "      <td>0</td>\n",
              "      <td>0</td>\n",
              "    </tr>\n",
              "  </tbody>\n",
              "</table>\n",
              "</div>"
            ],
            "text/plain": [
              "   age  education-num  ...  occupation_Tech-support  occupation_Transport-moving\n",
              "0   39             13  ...                        0                            0\n",
              "1   50             13  ...                        0                            0\n",
              "2   38              9  ...                        0                            0\n",
              "3   53              7  ...                        0                            0\n",
              "4   28             13  ...                        0                            0\n",
              "\n",
              "[5 rows x 24 columns]"
            ]
          },
          "metadata": {
            "tags": []
          },
          "execution_count": 204
        }
      ]
    },
    {
      "cell_type": "markdown",
      "metadata": {
        "id": "77q8iU2hsgnP"
      },
      "source": [
        "## Splitting dataset"
      ]
    },
    {
      "cell_type": "markdown",
      "metadata": {
        "id": "SfPxenOdsgnP"
      },
      "source": [
        "Let's split the dataset into features and labels first.\n",
        "- `income` is the label (`y`)\n",
        "- all other columns are features (`X`)"
      ]
    },
    {
      "cell_type": "code",
      "metadata": {
        "id": "opJi-b6BsgnP"
      },
      "source": [
        " y = df['income']\n",
        " X = df.drop('income', axis=1)"
      ],
      "execution_count": 205,
      "outputs": []
    },
    {
      "cell_type": "markdown",
      "metadata": {
        "id": "feMMooPKsgnP"
      },
      "source": [
        "### Train test split\n",
        "#### NOTE: This time we want to split the data into 3 datasets\n",
        "Split ratio: 60, 20, 20"
      ]
    },
    {
      "cell_type": "code",
      "metadata": {
        "id": "3zdPsbcCsgnP",
        "colab": {
          "base_uri": "https://localhost:8080/"
        },
        "outputId": "e8b33cb4-71ee-4e7f-d4e7-0ed0e11c79b7"
      },
      "source": [
        "from sklearn.model_selection import train_test_split\n",
        "X_train, X_test, y_train, y_test = train_test_split(X, y, test_size=0.4, stratify=y, random_state=1)\n",
        "X_valid, X_test, y_valid, y_test = train_test_split(X_test, y_test, test_size=0.5, stratify=y_test, random_state=1)\n",
        "\n",
        "print ('X train shape:', X_train.shape)\n",
        "print ('y train shape:', y_train.shape)\n",
        "\n",
        "print ('X valid shape:', X_valid.shape)\n",
        "print ('y valid shape:', y_valid.shape)\n",
        "\n",
        "print ('X test shape:', X_test.shape)\n",
        "print ('y test shape:', y_test.shape)"
      ],
      "execution_count": 206,
      "outputs": [
        {
          "output_type": "stream",
          "text": [
            "X train shape: (19536, 23)\n",
            "y train shape: (19536,)\n",
            "X valid shape: (6512, 23)\n",
            "y valid shape: (6512,)\n",
            "X test shape: (6513, 23)\n",
            "y test shape: (6513,)\n"
          ],
          "name": "stdout"
        }
      ]
    },
    {
      "cell_type": "markdown",
      "metadata": {
        "id": "uNYpoTmGsgnP"
      },
      "source": [
        "# Keras"
      ]
    },
    {
      "cell_type": "markdown",
      "metadata": {
        "id": "QH5rsFIwsgnP"
      },
      "source": [
        "Import modules"
      ]
    },
    {
      "cell_type": "code",
      "metadata": {
        "id": "KRmM18W8sgnP"
      },
      "source": [
        "from tensorflow.keras.models import Sequential\n",
        "from tensorflow.keras.layers import Dense\n",
        "from tensorflow.keras.layers import Dropout\n",
        "\n",
        "from tensorflow.keras import optimizers"
      ],
      "execution_count": 207,
      "outputs": []
    },
    {
      "cell_type": "markdown",
      "metadata": {
        "id": "XsHQfgsxsgnP"
      },
      "source": [
        "## Building model"
      ]
    },
    {
      "cell_type": "markdown",
      "metadata": {
        "id": "J4FLNl-esgnQ"
      },
      "source": [
        "Let's define the hyperparameters first"
      ]
    },
    {
      "cell_type": "code",
      "metadata": {
        "id": "1Mr55x9FsgnQ",
        "colab": {
          "base_uri": "https://localhost:8080/"
        },
        "outputId": "3b41c84f-eb52-43e7-9771-b55ae9bcb440"
      },
      "source": [
        "CELLS_1 = 32\n",
        "CELLS_2 = 8\n",
        "\n",
        "LEARNING_RATE = 0.001\n",
        "EPOCHS = 10\n",
        "BATCH_SIZE = 128\n",
        "\n",
        "NR_INPUTS = X_train.shape[1]\n",
        "print ('X_train dataset cointains {} features (columns).'.format(NR_INPUTS))"
      ],
      "execution_count": 208,
      "outputs": [
        {
          "output_type": "stream",
          "text": [
            "X_train dataset cointains 23 features (columns).\n"
          ],
          "name": "stdout"
        }
      ]
    },
    {
      "cell_type": "markdown",
      "metadata": {
        "id": "26KJGUTjsgnQ"
      },
      "source": [
        "Now we may build the model"
      ]
    },
    {
      "cell_type": "code",
      "metadata": {
        "id": "6x_CG1yxsgnQ",
        "colab": {
          "base_uri": "https://localhost:8080/"
        },
        "outputId": "20dd6b8b-0771-4218-cab4-48f818bb7c89"
      },
      "source": [
        "model = Sequential()\n",
        "\n",
        "model.add(Dense(CELLS_1, input_shape = [NR_INPUTS, ], activation='relu'))\n",
        "model.add(Dense(CELLS_2, activation='relu'))\n",
        "model.add(Dense(1, activation='sigmoid'))\n",
        "\n",
        "optimizer = optimizers.Adam(learning_rate=LEARNING_RATE)\n",
        "\n",
        "model.compile(loss = 'binary_crossentropy', optimizer = optimizer, metrics=['accuracy'])\n",
        "\n",
        "model.summary()"
      ],
      "execution_count": 209,
      "outputs": [
        {
          "output_type": "stream",
          "text": [
            "Model: \"sequential_27\"\n",
            "_________________________________________________________________\n",
            "Layer (type)                 Output Shape              Param #   \n",
            "=================================================================\n",
            "dense_81 (Dense)             (None, 32)                768       \n",
            "_________________________________________________________________\n",
            "dense_82 (Dense)             (None, 8)                 264       \n",
            "_________________________________________________________________\n",
            "dense_83 (Dense)             (None, 1)                 9         \n",
            "=================================================================\n",
            "Total params: 1,041\n",
            "Trainable params: 1,041\n",
            "Non-trainable params: 0\n",
            "_________________________________________________________________\n"
          ],
          "name": "stdout"
        }
      ]
    },
    {
      "cell_type": "code",
      "metadata": {
        "id": "ZZmrhOxAsgnQ",
        "colab": {
          "base_uri": "https://localhost:8080/"
        },
        "outputId": "8ce8ad9a-fb61-4082-acfe-c9209f0a7ed7"
      },
      "source": [
        "history = model.fit(X_train, y_train,\n",
        "                    validation_data = (X_valid, y_valid),\n",
        "                    batch_size = BATCH_SIZE,\n",
        "                    epochs = EPOCHS\n",
        "                    )"
      ],
      "execution_count": 210,
      "outputs": [
        {
          "output_type": "stream",
          "text": [
            "Epoch 1/10\n",
            "153/153 [==============================] - 0s 3ms/step - loss: 1.2079 - accuracy: 0.6593 - val_loss: 0.6677 - val_accuracy: 0.7574\n",
            "Epoch 2/10\n",
            "153/153 [==============================] - 0s 2ms/step - loss: 0.6557 - accuracy: 0.7586 - val_loss: 0.6437 - val_accuracy: 0.7592\n",
            "Epoch 3/10\n",
            "153/153 [==============================] - 0s 1ms/step - loss: 0.6329 - accuracy: 0.7591 - val_loss: 0.6225 - val_accuracy: 0.7594\n",
            "Epoch 4/10\n",
            "153/153 [==============================] - 0s 1ms/step - loss: 0.6135 - accuracy: 0.7592 - val_loss: 0.6049 - val_accuracy: 0.7592\n",
            "Epoch 5/10\n",
            "153/153 [==============================] - 0s 1ms/step - loss: 0.5978 - accuracy: 0.7592 - val_loss: 0.5909 - val_accuracy: 0.7592\n",
            "Epoch 6/10\n",
            "153/153 [==============================] - 0s 1ms/step - loss: 0.5853 - accuracy: 0.7592 - val_loss: 0.5801 - val_accuracy: 0.7592\n",
            "Epoch 7/10\n",
            "153/153 [==============================] - 0s 1ms/step - loss: 0.5758 - accuracy: 0.7592 - val_loss: 0.5717 - val_accuracy: 0.7592\n",
            "Epoch 8/10\n",
            "153/153 [==============================] - 0s 1ms/step - loss: 0.5686 - accuracy: 0.7592 - val_loss: 0.5656 - val_accuracy: 0.7592\n",
            "Epoch 9/10\n",
            "153/153 [==============================] - 0s 2ms/step - loss: 0.5633 - accuracy: 0.7592 - val_loss: 0.5611 - val_accuracy: 0.7592\n",
            "Epoch 10/10\n",
            "153/153 [==============================] - 0s 2ms/step - loss: 0.5595 - accuracy: 0.7592 - val_loss: 0.5580 - val_accuracy: 0.7592\n"
          ],
          "name": "stdout"
        }
      ]
    },
    {
      "cell_type": "markdown",
      "metadata": {
        "id": "KsPKoPiGsgnQ"
      },
      "source": [
        "Let's display the training history"
      ]
    },
    {
      "cell_type": "code",
      "metadata": {
        "id": "FA-BH1BPsgnQ"
      },
      "source": [
        "def plot_train_valid_history(history):\n",
        "    \"\"\"\n",
        "    Plots train and validation losses.\n",
        "    Arguments: history - history of training (result of keras model.fit).\n",
        "        history.history must be a dictionary that looks as follow:\n",
        "        {\n",
        "            'loss' : .....\n",
        "            'valid_loss' : .....\n",
        "            'acc' : .... # Optional\n",
        "            'val_acc' : ..... # Optional\n",
        "        }\n",
        "    \"\"\"\n",
        "    epochs = np.arange(len(history.history['val_loss'])) + 1\n",
        "    fig = plt.figure(figsize=(8, 4))\n",
        "    if 'accuracy' in history.history:\n",
        "        ax1 = fig.add_subplot(121)\n",
        "        ax1.plot(epochs, history.history['loss'], c='b', label='Train loss')\n",
        "        ax1.plot(epochs, history.history['val_loss'], c='g', label='Valid loss')\n",
        "        plt.legend(loc='lower left');\n",
        "        plt.grid(True)        \n",
        "        \n",
        "        ax1 = fig.add_subplot(122)\n",
        "        ax1.plot(epochs, history.history['accuracy'], c='b', label='Train acc')\n",
        "        ax1.plot(epochs, history.history['val_accuracy'], c='g', label='Valid acc')\n",
        "        plt.legend(loc='lower right');\n",
        "        plt.grid(True)        \n",
        "         \n",
        "        \n",
        "    else:\n",
        "        ax1 = fig.add_subplot(111)\n",
        "        ax1.plot(epochs, history.history['loss'], c='b', label='Train loss')\n",
        "        ax1.plot(epochs, history.history['val_loss'], c='g', label='Valid loss')\n",
        "        plt.legend(loc='lower left');\n",
        "        plt.grid(True)\n",
        "    plt.show()\n",
        "\n"
      ],
      "execution_count": 211,
      "outputs": []
    },
    {
      "cell_type": "code",
      "metadata": {
        "id": "UJFtY7fmsgnQ",
        "colab": {
          "base_uri": "https://localhost:8080/",
          "height": 265
        },
        "outputId": "6f01397f-e6b0-4877-eb5c-a92b30c73b13"
      },
      "source": [
        "plot_train_valid_history(history)"
      ],
      "execution_count": 212,
      "outputs": [
        {
          "output_type": "display_data",
          "data": {
            "image/png": "[encoded data removed]",
            "text/plain": [
              "<Figure size 576x288 with 2 Axes>"
            ]
          },
          "metadata": {
            "tags": [],
            "needs_background": "light"
          }
        }
      ]
    },
    {
      "cell_type": "code",
      "metadata": {
        "id": "PD3P9UeLsgnQ",
        "colab": {
          "base_uri": "https://localhost:8080/"
        },
        "outputId": "871a564b-8f9d-410b-f49e-35952e772d05"
      },
      "source": [
        "score, acc = model.evaluate(X_test, y_test)\n",
        "print('Test score:', score)\n",
        "print('Test accuracy:', acc)"
      ],
      "execution_count": 213,
      "outputs": [
        {
          "output_type": "stream",
          "text": [
            "204/204 [==============================] - 0s 845us/step - loss: 0.5581 - accuracy: 0.7591\n",
            "Test score: 0.558135449886322\n",
            "Test accuracy: 0.7590972185134888\n"
          ],
          "name": "stdout"
        }
      ]
    },
    {
      "cell_type": "markdown",
      "metadata": {
        "id": "jxWDMvCDsgnQ"
      },
      "source": [
        "## Task 1\n",
        "Create, train and test a model with following parameters:\n",
        "- First hidden layer: 32 neurons, relu activation\n",
        "- Dropout after first hidden layer keep_probability = 0.5\n",
        "- Second hidden layer: 32 neurons, relu activation\n",
        "- Output layer: 1 neuron, sigmoid activation\n",
        "\n",
        "Training parameters:\n",
        "- Learning Rate: 0.0003\n",
        "- Number of Epochs: 50\n",
        "- Batch size: 128\n",
        "\n",
        "*Note: You will need your model in task 2, so it is a good idea to write a function, which creates the model.*\n",
        "\n",
        "![alt text](./img/model_keras_task1.png \"Task 1 model\")"
      ]
    },
    {
      "cell_type": "code",
      "metadata": {
        "id": "AeI8DHqQsgnQ",
        "colab": {
          "base_uri": "https://localhost:8080/"
        },
        "outputId": "01c4d6ce-b57b-40f1-e42e-bd64731d098b"
      },
      "source": [
        "# HYPERPARAMETERS\n",
        "\n",
        "CELLS_1 = 32\n",
        "CELLS_2 = 32\n",
        "\n",
        "LEARNING_RATE = 0.0003\n",
        "EPOCHS = 50\n",
        "BATCH_SIZE = 128\n",
        "\n",
        "NR_INPUTS = X_train.shape[1]\n",
        "print ('X_train dataset cointains {} features (columns).'.format(NR_INPUTS))\n"
      ],
      "execution_count": 214,
      "outputs": [
        {
          "output_type": "stream",
          "text": [
            "X_train dataset cointains 23 features (columns).\n"
          ],
          "name": "stdout"
        }
      ]
    },
    {
      "cell_type": "code",
      "metadata": {
        "id": "AMkZP4lJsgnQ"
      },
      "source": [
        "def create_model():\n",
        "    # ENTER YOUR CODE HERE\n",
        "\n",
        "    model = Sequential()\n",
        "\n",
        "    model.add(Dense(CELLS_1, input_shape = [NR_INPUTS, ], activation='relu'))\n",
        "    model.add(Dropout(0.5))\n",
        "    model.add(Dense(CELLS_2, activation='relu'))\n",
        "    model.add(Dense(1, activation='sigmoid'))\n",
        "\n",
        "    optimizer = optimizers.Adam(learning_rate=LEARNING_RATE)\n",
        "\n",
        "    model.compile(loss = 'binary_crossentropy', optimizer = optimizer, metrics=['accuracy'])\n",
        "\n",
        "    return model\n"
      ],
      "execution_count": 215,
      "outputs": []
    },
    {
      "cell_type": "code",
      "metadata": {
        "colab": {
          "base_uri": "https://localhost:8080/"
        },
        "id": "6IPZ5ehdnvVL",
        "outputId": "20ce8d6a-9c58-445b-f74a-20e9c1387650"
      },
      "source": [
        "model = create_model()\n",
        "\n",
        "model.summary()"
      ],
      "execution_count": 216,
      "outputs": [
        {
          "output_type": "stream",
          "text": [
            "Model: \"sequential_28\"\n",
            "_________________________________________________________________\n",
            "Layer (type)                 Output Shape              Param #   \n",
            "=================================================================\n",
            "dense_84 (Dense)             (None, 32)                768       \n",
            "_________________________________________________________________\n",
            "dropout_23 (Dropout)         (None, 32)                0         \n",
            "_________________________________________________________________\n",
            "dense_85 (Dense)             (None, 32)                1056      \n",
            "_________________________________________________________________\n",
            "dense_86 (Dense)             (None, 1)                 33        \n",
            "=================================================================\n",
            "Total params: 1,857\n",
            "Trainable params: 1,857\n",
            "Non-trainable params: 0\n",
            "_________________________________________________________________\n"
          ],
          "name": "stdout"
        }
      ]
    },
    {
      "cell_type": "code",
      "metadata": {
        "id": "DlSSnUeEsgnQ",
        "colab": {
          "base_uri": "https://localhost:8080/"
        },
        "outputId": "d706ea9c-34d1-40b6-d591-97dc8ea1286e"
      },
      "source": [
        "history = model.fit(X_train, y_train,\n",
        "                    validation_data = (X_valid, y_valid),\n",
        "                    batch_size = BATCH_SIZE,\n",
        "                    epochs = EPOCHS\n",
        "                    )"
      ],
      "execution_count": 217,
      "outputs": [
        {
          "output_type": "stream",
          "text": [
            "Epoch 1/50\n",
            "153/153 [==============================] - 0s 3ms/step - loss: 1.1827 - accuracy: 0.6445 - val_loss: 0.6686 - val_accuracy: 0.7594\n",
            "Epoch 2/50\n",
            "153/153 [==============================] - 0s 2ms/step - loss: 0.7370 - accuracy: 0.6778 - val_loss: 0.5816 - val_accuracy: 0.7591\n",
            "Epoch 3/50\n",
            "153/153 [==============================] - 0s 2ms/step - loss: 0.6392 - accuracy: 0.7094 - val_loss: 0.5733 - val_accuracy: 0.7592\n",
            "Epoch 4/50\n",
            "153/153 [==============================] - 0s 2ms/step - loss: 0.6013 - accuracy: 0.7370 - val_loss: 0.5657 - val_accuracy: 0.7592\n",
            "Epoch 5/50\n",
            "153/153 [==============================] - 0s 2ms/step - loss: 0.5831 - accuracy: 0.7489 - val_loss: 0.5576 - val_accuracy: 0.7592\n",
            "Epoch 6/50\n",
            "153/153 [==============================] - 0s 2ms/step - loss: 0.5713 - accuracy: 0.7548 - val_loss: 0.5497 - val_accuracy: 0.7592\n",
            "Epoch 7/50\n",
            "153/153 [==============================] - 0s 2ms/step - loss: 0.5645 - accuracy: 0.7564 - val_loss: 0.5443 - val_accuracy: 0.7592\n",
            "Epoch 8/50\n",
            "153/153 [==============================] - 0s 2ms/step - loss: 0.5584 - accuracy: 0.7564 - val_loss: 0.5374 - val_accuracy: 0.7592\n",
            "Epoch 9/50\n",
            "153/153 [==============================] - 0s 2ms/step - loss: 0.5516 - accuracy: 0.7578 - val_loss: 0.5309 - val_accuracy: 0.7592\n",
            "Epoch 10/50\n",
            "153/153 [==============================] - 0s 2ms/step - loss: 0.5454 - accuracy: 0.7584 - val_loss: 0.5277 - val_accuracy: 0.7592\n",
            "Epoch 11/50\n",
            "153/153 [==============================] - 0s 2ms/step - loss: 0.5377 - accuracy: 0.7588 - val_loss: 0.5271 - val_accuracy: 0.7592\n",
            "Epoch 12/50\n",
            "153/153 [==============================] - 0s 2ms/step - loss: 0.5319 - accuracy: 0.7588 - val_loss: 0.5147 - val_accuracy: 0.7592\n",
            "Epoch 13/50\n",
            "153/153 [==============================] - 0s 2ms/step - loss: 0.5251 - accuracy: 0.7588 - val_loss: 0.5115 - val_accuracy: 0.7592\n",
            "Epoch 14/50\n",
            "153/153 [==============================] - 0s 2ms/step - loss: 0.5225 - accuracy: 0.7591 - val_loss: 0.5063 - val_accuracy: 0.7592\n",
            "Epoch 15/50\n",
            "153/153 [==============================] - 0s 2ms/step - loss: 0.5140 - accuracy: 0.7593 - val_loss: 0.4915 - val_accuracy: 0.7592\n",
            "Epoch 16/50\n",
            "153/153 [==============================] - 0s 2ms/step - loss: 0.5106 - accuracy: 0.7600 - val_loss: 0.4881 - val_accuracy: 0.7592\n",
            "Epoch 17/50\n",
            "153/153 [==============================] - 0s 2ms/step - loss: 0.5060 - accuracy: 0.7593 - val_loss: 0.4928 - val_accuracy: 0.7592\n",
            "Epoch 18/50\n",
            "153/153 [==============================] - 0s 2ms/step - loss: 0.5018 - accuracy: 0.7597 - val_loss: 0.4927 - val_accuracy: 0.7592\n",
            "Epoch 19/50\n",
            "153/153 [==============================] - 0s 2ms/step - loss: 0.4983 - accuracy: 0.7601 - val_loss: 0.4781 - val_accuracy: 0.7592\n",
            "Epoch 20/50\n",
            "153/153 [==============================] - 0s 2ms/step - loss: 0.4940 - accuracy: 0.7604 - val_loss: 0.4867 - val_accuracy: 0.7592\n",
            "Epoch 21/50\n",
            "153/153 [==============================] - 0s 2ms/step - loss: 0.4883 - accuracy: 0.7611 - val_loss: 0.4874 - val_accuracy: 0.7592\n",
            "Epoch 22/50\n",
            "153/153 [==============================] - 0s 2ms/step - loss: 0.4872 - accuracy: 0.7628 - val_loss: 0.4904 - val_accuracy: 0.7592\n",
            "Epoch 23/50\n",
            "153/153 [==============================] - 0s 2ms/step - loss: 0.4848 - accuracy: 0.7618 - val_loss: 0.4839 - val_accuracy: 0.7592\n",
            "Epoch 24/50\n",
            "153/153 [==============================] - 0s 2ms/step - loss: 0.4844 - accuracy: 0.7607 - val_loss: 0.4911 - val_accuracy: 0.7592\n",
            "Epoch 25/50\n",
            "153/153 [==============================] - 0s 2ms/step - loss: 0.4848 - accuracy: 0.7633 - val_loss: 0.4929 - val_accuracy: 0.7592\n",
            "Epoch 26/50\n",
            "153/153 [==============================] - 0s 2ms/step - loss: 0.4818 - accuracy: 0.7651 - val_loss: 0.4935 - val_accuracy: 0.7592\n",
            "Epoch 27/50\n",
            "153/153 [==============================] - 0s 2ms/step - loss: 0.4760 - accuracy: 0.7682 - val_loss: 0.4907 - val_accuracy: 0.7592\n",
            "Epoch 28/50\n",
            "153/153 [==============================] - 0s 2ms/step - loss: 0.4751 - accuracy: 0.7688 - val_loss: 0.4755 - val_accuracy: 0.7592\n",
            "Epoch 29/50\n",
            "153/153 [==============================] - 0s 2ms/step - loss: 0.4721 - accuracy: 0.7697 - val_loss: 0.4948 - val_accuracy: 0.7592\n",
            "Epoch 30/50\n",
            "153/153 [==============================] - 0s 2ms/step - loss: 0.4725 - accuracy: 0.7673 - val_loss: 0.4788 - val_accuracy: 0.7592\n",
            "Epoch 31/50\n",
            "153/153 [==============================] - 0s 2ms/step - loss: 0.4732 - accuracy: 0.7683 - val_loss: 0.4850 - val_accuracy: 0.7592\n",
            "Epoch 32/50\n",
            "153/153 [==============================] - 0s 2ms/step - loss: 0.4693 - accuracy: 0.7697 - val_loss: 0.4820 - val_accuracy: 0.7592\n",
            "Epoch 33/50\n",
            "153/153 [==============================] - 0s 2ms/step - loss: 0.4701 - accuracy: 0.7726 - val_loss: 0.4914 - val_accuracy: 0.7592\n",
            "Epoch 34/50\n",
            "153/153 [==============================] - 0s 2ms/step - loss: 0.4642 - accuracy: 0.7737 - val_loss: 0.4785 - val_accuracy: 0.7592\n",
            "Epoch 35/50\n",
            "153/153 [==============================] - 0s 2ms/step - loss: 0.4639 - accuracy: 0.7735 - val_loss: 0.4965 - val_accuracy: 0.7592\n",
            "Epoch 36/50\n",
            "153/153 [==============================] - 0s 2ms/step - loss: 0.4623 - accuracy: 0.7763 - val_loss: 0.4967 - val_accuracy: 0.7592\n",
            "Epoch 37/50\n",
            "153/153 [==============================] - 0s 2ms/step - loss: 0.4633 - accuracy: 0.7748 - val_loss: 0.4819 - val_accuracy: 0.7592\n",
            "Epoch 38/50\n",
            "153/153 [==============================] - 0s 2ms/step - loss: 0.4647 - accuracy: 0.7758 - val_loss: 0.4902 - val_accuracy: 0.7592\n",
            "Epoch 39/50\n",
            "153/153 [==============================] - 0s 2ms/step - loss: 0.4600 - accuracy: 0.7782 - val_loss: 0.4657 - val_accuracy: 0.7592\n",
            "Epoch 40/50\n",
            "153/153 [==============================] - 0s 2ms/step - loss: 0.4575 - accuracy: 0.7795 - val_loss: 0.4972 - val_accuracy: 0.7592\n",
            "Epoch 41/50\n",
            "153/153 [==============================] - 0s 2ms/step - loss: 0.4560 - accuracy: 0.7781 - val_loss: 0.5059 - val_accuracy: 0.7592\n",
            "Epoch 42/50\n",
            "153/153 [==============================] - 0s 2ms/step - loss: 0.4553 - accuracy: 0.7802 - val_loss: 0.4835 - val_accuracy: 0.7592\n",
            "Epoch 43/50\n",
            "153/153 [==============================] - 0s 2ms/step - loss: 0.4557 - accuracy: 0.7822 - val_loss: 0.5082 - val_accuracy: 0.7592\n",
            "Epoch 44/50\n",
            "153/153 [==============================] - 0s 2ms/step - loss: 0.4533 - accuracy: 0.7817 - val_loss: 0.4968 - val_accuracy: 0.7592\n",
            "Epoch 45/50\n",
            "153/153 [==============================] - 0s 2ms/step - loss: 0.4543 - accuracy: 0.7854 - val_loss: 0.4981 - val_accuracy: 0.7592\n",
            "Epoch 46/50\n",
            "153/153 [==============================] - 0s 2ms/step - loss: 0.4534 - accuracy: 0.7815 - val_loss: 0.5115 - val_accuracy: 0.7592\n",
            "Epoch 47/50\n",
            "153/153 [==============================] - 0s 2ms/step - loss: 0.4551 - accuracy: 0.7811 - val_loss: 0.5110 - val_accuracy: 0.7592\n",
            "Epoch 48/50\n",
            "153/153 [==============================] - 0s 2ms/step - loss: 0.4528 - accuracy: 0.7848 - val_loss: 0.4979 - val_accuracy: 0.7592\n",
            "Epoch 49/50\n",
            "153/153 [==============================] - 0s 2ms/step - loss: 0.4492 - accuracy: 0.7850 - val_loss: 0.4814 - val_accuracy: 0.7592\n",
            "Epoch 50/50\n",
            "153/153 [==============================] - 0s 2ms/step - loss: 0.4489 - accuracy: 0.7875 - val_loss: 0.5221 - val_accuracy: 0.7592\n"
          ],
          "name": "stdout"
        }
      ]
    },
    {
      "cell_type": "code",
      "metadata": {
        "id": "_bqzO983sgnQ",
        "colab": {
          "base_uri": "https://localhost:8080/",
          "height": 265
        },
        "outputId": "3309f252-782e-4590-e009-a3941d8958e5"
      },
      "source": [
        "# ENTER YOUR CODE HERE\n",
        "plot_train_valid_history(history)"
      ],
      "execution_count": 218,
      "outputs": [
        {
          "output_type": "display_data",
          "data": {
            "image/png": "[encoded data removed]",
            "text/plain": [
              "<Figure size 576x288 with 2 Axes>"
            ]
          },
          "metadata": {
            "tags": [],
            "needs_background": "light"
          }
        }
      ]
    },
    {
      "cell_type": "markdown",
      "metadata": {
        "id": "KttC3lTSsgnQ"
      },
      "source": [
        "## Question 1\n",
        "- How does the model behave. Can you see any overfitting or undergitting problems?\n",
        "- How you can prevent these problems?"
      ]
    },
    {
      "cell_type": "markdown",
      "metadata": {
        "id": "res7VYEuqVwW"
      },
      "source": [
        "Overfitting problem. Model behaves strangely, validation accuracy is basically constant. \n",
        "Can be prevented by adding more data, making less complicated model, dropout or regularization"
      ]
    },
    {
      "cell_type": "markdown",
      "metadata": {
        "id": "OOaOjsW5sgnQ"
      },
      "source": [
        "## Task 2\n",
        "Normalize your features. Use StandardScaler from sklearn.preprocessing library. Then train your model on the normalized features. Did it change anything with the behaviour of the model?"
      ]
    },
    {
      "cell_type": "code",
      "metadata": {
        "id": "2K2-SA_9sgnQ"
      },
      "source": [
        "from sklearn.preprocessing import StandardScaler\n",
        "# ENTER YOUR CODE HERE\n",
        "scaler = StandardScaler()\n",
        "X_train = scaler.fit_transform(X_train)\n",
        "X_valid = scaler.transform(X_valid)\n",
        "X_test = scaler.transform(X_test)\n"
      ],
      "execution_count": 219,
      "outputs": []
    },
    {
      "cell_type": "code",
      "metadata": {
        "colab": {
          "base_uri": "https://localhost:8080/"
        },
        "id": "SicYtOvQE1aA",
        "outputId": "ca06527a-d33d-484f-92ef-e35476adc167"
      },
      "source": [
        "# HYPERPARAMETERS\n",
        "\n",
        "CELLS_1 = 32\n",
        "CELLS_2 = 16\n",
        "\n",
        "LEARNING_RATE = 0.0005\n",
        "EPOCHS = 60\n",
        "BATCH_SIZE = 128\n",
        "\n",
        "NR_INPUTS = X_train.shape[1]\n",
        "print ('X_train dataset cointains {} features (columns).'.format(NR_INPUTS))"
      ],
      "execution_count": 220,
      "outputs": [
        {
          "output_type": "stream",
          "text": [
            "X_train dataset cointains 23 features (columns).\n"
          ],
          "name": "stdout"
        }
      ]
    },
    {
      "cell_type": "code",
      "metadata": {
        "id": "byXX1cfFsgnQ",
        "colab": {
          "base_uri": "https://localhost:8080/"
        },
        "outputId": "a91198f3-6989-441c-c9e1-576bb9bd4a52"
      },
      "source": [
        "# Create and train the model\n",
        "# ENTER YOUR CODE HERE\n",
        "model = create_model()\n",
        "\n",
        "model.summary()"
      ],
      "execution_count": 221,
      "outputs": [
        {
          "output_type": "stream",
          "text": [
            "Model: \"sequential_29\"\n",
            "_________________________________________________________________\n",
            "Layer (type)                 Output Shape              Param #   \n",
            "=================================================================\n",
            "dense_87 (Dense)             (None, 32)                768       \n",
            "_________________________________________________________________\n",
            "dropout_24 (Dropout)         (None, 32)                0         \n",
            "_________________________________________________________________\n",
            "dense_88 (Dense)             (None, 16)                528       \n",
            "_________________________________________________________________\n",
            "dense_89 (Dense)             (None, 1)                 17        \n",
            "=================================================================\n",
            "Total params: 1,313\n",
            "Trainable params: 1,313\n",
            "Non-trainable params: 0\n",
            "_________________________________________________________________\n"
          ],
          "name": "stdout"
        }
      ]
    },
    {
      "cell_type": "code",
      "metadata": {
        "id": "8oeTgAVosgnQ",
        "colab": {
          "base_uri": "https://localhost:8080/"
        },
        "outputId": "9fd7a5f6-cc3d-428a-9e92-753bdcebb7ee"
      },
      "source": [
        "history = model.fit(X_train, y_train,\n",
        "                    validation_data = (X_valid, y_valid),\n",
        "                    batch_size = BATCH_SIZE,\n",
        "                    epochs = EPOCHS\n",
        "                    )"
      ],
      "execution_count": 222,
      "outputs": [
        {
          "output_type": "stream",
          "text": [
            "Epoch 1/60\n",
            "153/153 [==============================] - 0s 3ms/step - loss: 0.5677 - accuracy: 0.7185 - val_loss: 0.4564 - val_accuracy: 0.7715\n",
            "Epoch 2/60\n",
            "153/153 [==============================] - 0s 2ms/step - loss: 0.4863 - accuracy: 0.7665 - val_loss: 0.4246 - val_accuracy: 0.8019\n",
            "Epoch 3/60\n",
            "153/153 [==============================] - 0s 2ms/step - loss: 0.4620 - accuracy: 0.7809 - val_loss: 0.4139 - val_accuracy: 0.8080\n",
            "Epoch 4/60\n",
            "153/153 [==============================] - 0s 2ms/step - loss: 0.4501 - accuracy: 0.7863 - val_loss: 0.4089 - val_accuracy: 0.8137\n",
            "Epoch 5/60\n",
            "153/153 [==============================] - 0s 2ms/step - loss: 0.4449 - accuracy: 0.7904 - val_loss: 0.4052 - val_accuracy: 0.8166\n",
            "Epoch 6/60\n",
            "153/153 [==============================] - 0s 2ms/step - loss: 0.4399 - accuracy: 0.7947 - val_loss: 0.4030 - val_accuracy: 0.8191\n",
            "Epoch 7/60\n",
            "153/153 [==============================] - 0s 2ms/step - loss: 0.4322 - accuracy: 0.7968 - val_loss: 0.4004 - val_accuracy: 0.8202\n",
            "Epoch 8/60\n",
            "153/153 [==============================] - 0s 2ms/step - loss: 0.4302 - accuracy: 0.8021 - val_loss: 0.3995 - val_accuracy: 0.8203\n",
            "Epoch 9/60\n",
            "153/153 [==============================] - 0s 2ms/step - loss: 0.4281 - accuracy: 0.7984 - val_loss: 0.3987 - val_accuracy: 0.8231\n",
            "Epoch 10/60\n",
            "153/153 [==============================] - 0s 2ms/step - loss: 0.4256 - accuracy: 0.8004 - val_loss: 0.3977 - val_accuracy: 0.8231\n",
            "Epoch 11/60\n",
            "153/153 [==============================] - 0s 2ms/step - loss: 0.4258 - accuracy: 0.7992 - val_loss: 0.3975 - val_accuracy: 0.8236\n",
            "Epoch 12/60\n",
            "153/153 [==============================] - 0s 2ms/step - loss: 0.4222 - accuracy: 0.8017 - val_loss: 0.3965 - val_accuracy: 0.8239\n",
            "Epoch 13/60\n",
            "153/153 [==============================] - 0s 2ms/step - loss: 0.4222 - accuracy: 0.8035 - val_loss: 0.3963 - val_accuracy: 0.8234\n",
            "Epoch 14/60\n",
            "153/153 [==============================] - 0s 2ms/step - loss: 0.4218 - accuracy: 0.8013 - val_loss: 0.3959 - val_accuracy: 0.8236\n",
            "Epoch 15/60\n",
            "153/153 [==============================] - 0s 2ms/step - loss: 0.4183 - accuracy: 0.8037 - val_loss: 0.3958 - val_accuracy: 0.8249\n",
            "Epoch 16/60\n",
            "153/153 [==============================] - 0s 2ms/step - loss: 0.4160 - accuracy: 0.8023 - val_loss: 0.3950 - val_accuracy: 0.8242\n",
            "Epoch 17/60\n",
            "153/153 [==============================] - 0s 2ms/step - loss: 0.4159 - accuracy: 0.8045 - val_loss: 0.3949 - val_accuracy: 0.8248\n",
            "Epoch 18/60\n",
            "153/153 [==============================] - 0s 2ms/step - loss: 0.4179 - accuracy: 0.8035 - val_loss: 0.3944 - val_accuracy: 0.8259\n",
            "Epoch 19/60\n",
            "153/153 [==============================] - 0s 2ms/step - loss: 0.4138 - accuracy: 0.8081 - val_loss: 0.3930 - val_accuracy: 0.8248\n",
            "Epoch 20/60\n",
            "153/153 [==============================] - 0s 2ms/step - loss: 0.4151 - accuracy: 0.8063 - val_loss: 0.3934 - val_accuracy: 0.8252\n",
            "Epoch 21/60\n",
            "153/153 [==============================] - 0s 2ms/step - loss: 0.4137 - accuracy: 0.8074 - val_loss: 0.3940 - val_accuracy: 0.8243\n",
            "Epoch 22/60\n",
            "153/153 [==============================] - 0s 2ms/step - loss: 0.4121 - accuracy: 0.8100 - val_loss: 0.3934 - val_accuracy: 0.8229\n",
            "Epoch 23/60\n",
            "153/153 [==============================] - 0s 2ms/step - loss: 0.4116 - accuracy: 0.8121 - val_loss: 0.3928 - val_accuracy: 0.8239\n",
            "Epoch 24/60\n",
            "153/153 [==============================] - 0s 2ms/step - loss: 0.4120 - accuracy: 0.8090 - val_loss: 0.3920 - val_accuracy: 0.8240\n",
            "Epoch 25/60\n",
            "153/153 [==============================] - 0s 2ms/step - loss: 0.4112 - accuracy: 0.8100 - val_loss: 0.3927 - val_accuracy: 0.8240\n",
            "Epoch 26/60\n",
            "153/153 [==============================] - 0s 2ms/step - loss: 0.4106 - accuracy: 0.8092 - val_loss: 0.3922 - val_accuracy: 0.8226\n",
            "Epoch 27/60\n",
            "153/153 [==============================] - 0s 2ms/step - loss: 0.4107 - accuracy: 0.8092 - val_loss: 0.3923 - val_accuracy: 0.8226\n",
            "Epoch 28/60\n",
            "153/153 [==============================] - 0s 2ms/step - loss: 0.4098 - accuracy: 0.8104 - val_loss: 0.3917 - val_accuracy: 0.8237\n",
            "Epoch 29/60\n",
            "153/153 [==============================] - 0s 2ms/step - loss: 0.4087 - accuracy: 0.8101 - val_loss: 0.3915 - val_accuracy: 0.8239\n",
            "Epoch 30/60\n",
            "153/153 [==============================] - 0s 2ms/step - loss: 0.4081 - accuracy: 0.8116 - val_loss: 0.3926 - val_accuracy: 0.8222\n",
            "Epoch 31/60\n",
            "153/153 [==============================] - 0s 2ms/step - loss: 0.4083 - accuracy: 0.8124 - val_loss: 0.3921 - val_accuracy: 0.8239\n",
            "Epoch 32/60\n",
            "153/153 [==============================] - 0s 2ms/step - loss: 0.4062 - accuracy: 0.8121 - val_loss: 0.3920 - val_accuracy: 0.8228\n",
            "Epoch 33/60\n",
            "153/153 [==============================] - 0s 2ms/step - loss: 0.4046 - accuracy: 0.8108 - val_loss: 0.3933 - val_accuracy: 0.8217\n",
            "Epoch 34/60\n",
            "153/153 [==============================] - 0s 2ms/step - loss: 0.4044 - accuracy: 0.8132 - val_loss: 0.3923 - val_accuracy: 0.8231\n",
            "Epoch 35/60\n",
            "153/153 [==============================] - 0s 2ms/step - loss: 0.4049 - accuracy: 0.8137 - val_loss: 0.3912 - val_accuracy: 0.8236\n",
            "Epoch 36/60\n",
            "153/153 [==============================] - 0s 2ms/step - loss: 0.4058 - accuracy: 0.8155 - val_loss: 0.3922 - val_accuracy: 0.8234\n",
            "Epoch 37/60\n",
            "153/153 [==============================] - 0s 2ms/step - loss: 0.4040 - accuracy: 0.8143 - val_loss: 0.3915 - val_accuracy: 0.8240\n",
            "Epoch 38/60\n",
            "153/153 [==============================] - 0s 2ms/step - loss: 0.4029 - accuracy: 0.8136 - val_loss: 0.3906 - val_accuracy: 0.8231\n",
            "Epoch 39/60\n",
            "153/153 [==============================] - 0s 2ms/step - loss: 0.4033 - accuracy: 0.8145 - val_loss: 0.3920 - val_accuracy: 0.8213\n",
            "Epoch 40/60\n",
            "153/153 [==============================] - 0s 2ms/step - loss: 0.4049 - accuracy: 0.8132 - val_loss: 0.3917 - val_accuracy: 0.8240\n",
            "Epoch 41/60\n",
            "153/153 [==============================] - 0s 2ms/step - loss: 0.4042 - accuracy: 0.8138 - val_loss: 0.3929 - val_accuracy: 0.8225\n",
            "Epoch 42/60\n",
            "153/153 [==============================] - 0s 2ms/step - loss: 0.4043 - accuracy: 0.8125 - val_loss: 0.3920 - val_accuracy: 0.8222\n",
            "Epoch 43/60\n",
            "153/153 [==============================] - 0s 2ms/step - loss: 0.4021 - accuracy: 0.8158 - val_loss: 0.3914 - val_accuracy: 0.8222\n",
            "Epoch 44/60\n",
            "153/153 [==============================] - 0s 2ms/step - loss: 0.4026 - accuracy: 0.8147 - val_loss: 0.3907 - val_accuracy: 0.8226\n",
            "Epoch 45/60\n",
            "153/153 [==============================] - 0s 2ms/step - loss: 0.4012 - accuracy: 0.8160 - val_loss: 0.3906 - val_accuracy: 0.8222\n",
            "Epoch 46/60\n",
            "153/153 [==============================] - 0s 2ms/step - loss: 0.4027 - accuracy: 0.8148 - val_loss: 0.3912 - val_accuracy: 0.8223\n",
            "Epoch 47/60\n",
            "153/153 [==============================] - 0s 2ms/step - loss: 0.4029 - accuracy: 0.8152 - val_loss: 0.3907 - val_accuracy: 0.8229\n",
            "Epoch 48/60\n",
            "153/153 [==============================] - 0s 2ms/step - loss: 0.4033 - accuracy: 0.8138 - val_loss: 0.3910 - val_accuracy: 0.8220\n",
            "Epoch 49/60\n",
            "153/153 [==============================] - 0s 2ms/step - loss: 0.4023 - accuracy: 0.8162 - val_loss: 0.3914 - val_accuracy: 0.8229\n",
            "Epoch 50/60\n",
            "153/153 [==============================] - 0s 2ms/step - loss: 0.4022 - accuracy: 0.8145 - val_loss: 0.3915 - val_accuracy: 0.8243\n",
            "Epoch 51/60\n",
            "153/153 [==============================] - 0s 2ms/step - loss: 0.4016 - accuracy: 0.8146 - val_loss: 0.3903 - val_accuracy: 0.8236\n",
            "Epoch 52/60\n",
            "153/153 [==============================] - 0s 2ms/step - loss: 0.4011 - accuracy: 0.8150 - val_loss: 0.3908 - val_accuracy: 0.8229\n",
            "Epoch 53/60\n",
            "153/153 [==============================] - 0s 2ms/step - loss: 0.3989 - accuracy: 0.8161 - val_loss: 0.3904 - val_accuracy: 0.8231\n",
            "Epoch 54/60\n",
            "153/153 [==============================] - 0s 2ms/step - loss: 0.4003 - accuracy: 0.8168 - val_loss: 0.3906 - val_accuracy: 0.8223\n",
            "Epoch 55/60\n",
            "153/153 [==============================] - 0s 2ms/step - loss: 0.4013 - accuracy: 0.8162 - val_loss: 0.3920 - val_accuracy: 0.8222\n",
            "Epoch 56/60\n",
            "153/153 [==============================] - 0s 2ms/step - loss: 0.3995 - accuracy: 0.8165 - val_loss: 0.3912 - val_accuracy: 0.8231\n",
            "Epoch 57/60\n",
            "153/153 [==============================] - 0s 2ms/step - loss: 0.3993 - accuracy: 0.8186 - val_loss: 0.3912 - val_accuracy: 0.8232\n",
            "Epoch 58/60\n",
            "153/153 [==============================] - 0s 2ms/step - loss: 0.3989 - accuracy: 0.8167 - val_loss: 0.3911 - val_accuracy: 0.8239\n",
            "Epoch 59/60\n",
            "153/153 [==============================] - 0s 2ms/step - loss: 0.3989 - accuracy: 0.8156 - val_loss: 0.3922 - val_accuracy: 0.8234\n",
            "Epoch 60/60\n",
            "153/153 [==============================] - 0s 2ms/step - loss: 0.3992 - accuracy: 0.8184 - val_loss: 0.3916 - val_accuracy: 0.8236\n"
          ],
          "name": "stdout"
        }
      ]
    },
    {
      "cell_type": "code",
      "metadata": {
        "id": "bm1X1jX6sgnQ",
        "colab": {
          "base_uri": "https://localhost:8080/",
          "height": 268
        },
        "outputId": "eb180fb6-3e9e-409d-8117-57ef5750426f"
      },
      "source": [
        "plot_train_valid_history(history)"
      ],
      "execution_count": 223,
      "outputs": [
        {
          "output_type": "display_data",
          "data": {
            "image/png": "[encoded data removed]",
            "text/plain": [
              "<Figure size 576x288 with 2 Axes>"
            ]
          },
          "metadata": {
            "tags": [],
            "needs_background": "light"
          }
        }
      ]
    },
    {
      "cell_type": "code",
      "metadata": {
        "id": "GFschQd2sgnQ",
        "colab": {
          "base_uri": "https://localhost:8080/"
        },
        "outputId": "2708724a-22db-4368-bc88-3223036d3dad"
      },
      "source": [
        "score, acc = model.evaluate(X_test, y_test)\n",
        "print('Test score:', score)\n",
        "print('Test accuracy:', acc)"
      ],
      "execution_count": 224,
      "outputs": [
        {
          "output_type": "stream",
          "text": [
            "204/204 [==============================] - 0s 829us/step - loss: 0.3977 - accuracy: 0.8207\n",
            "Test score: 0.3976742625236511\n",
            "Test accuracy: 0.8206663727760315\n"
          ],
          "name": "stdout"
        }
      ]
    }
  ]
}